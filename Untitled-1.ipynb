{
 "cells": [
  {
   "cell_type": "code",
   "execution_count": 3,
   "metadata": {},
   "outputs": [],
   "source": [
    "org_data = {\n",
    "    'Issuer no': [1, 2, 3, 4 ,5 ,6, 7, 8, 9, 10 , 11],\n",
    "    'Issuer name': ['Radiant Foods', 'United Health', 'Microsoft', 'CBR CLothing', 'Walmart' , 'SHANGHAI CONSTRUCTION' , 'Nova Construction' , 'American Engg' , 'MankindPh' ,\n",
    "                    'StarInsurance' , 'NY Brokerage House'],\n",
    "    'Business line': ['Consumer Products:Packaged Foods', 'Healthcare', 'Technology', 'Consumer Products: Apparel' , 'Retail'  , 'Construction: Commercial' , 'Construction: Residential',\n",
    "                      'Engg Services', 'Pharmaceuticals', 'Insurance' , 'Trading'],\n",
    "    'Region' : ['Asia', 'North America' , 'North America', 'South America', 'North America' , 'Asia' , 'Asia' , 'North America' ,'North America', 'North America' ,'North America']\n",
    "   \n",
    "}"
   ]
  },
  {
   "cell_type": "code",
   "execution_count": 4,
   "metadata": {},
   "outputs": [],
   "source": [
    "import pandas as pd\n",
    "df=pd.DataFrame(org_data)"
   ]
  },
  {
   "cell_type": "code",
   "execution_count": 1,
   "metadata": {},
   "outputs": [],
   "source": [
    "from langchain_core.prompts import ChatPromptTemplate\n",
    "from langchain_core.output_parsers import StrOutputParser\n",
    "from langchain_core.messages import HumanMessage,AIMessage\n",
    "import streamlit as st\n",
    "from langchain_community.document_loaders import PyPDFLoader\n",
    "from langchain.text_splitter import RecursiveCharacterTextSplitter\n",
    "from langchain_nomic import NomicEmbeddings\n",
    "\n",
    "from langchain_community.vectorstores import FAISS\n",
    "import getpass\n",
    "import os\n",
    "from langchain.chat_models import init_chat_model"
   ]
  },
  {
   "cell_type": "code",
   "execution_count": 2,
   "metadata": {},
   "outputs": [],
   "source": [
    "# if not os.environ.get(\"GROQ_API_KEY\"):\n",
    "#   os.environ[\"GROQ_API_KEY\"] = getpass.getpass(\"Enter API key for Groq: \")\n",
    "\n",
    "# from dotenv import load_dotenv\n",
    "\n",
    "# load_dotenv()  # This loads environment variables from .env\n",
    "\n",
    "model=\"gemma2-9b-it\"\n",
    "LLM_model = init_chat_model(model, model_provider=\"groq\")\n",
    "\n"
   ]
  },
  {
   "cell_type": "code",
   "execution_count": 3,
   "metadata": {},
   "outputs": [
    {
     "data": {
      "text/plain": [
       "AIMessage(content='The President of India is **Droupadi Murmu**. \\n\\nShe assumed office on July 25, 2022, becoming the 15th President of India. \\n', additional_kwargs={}, response_metadata={'token_usage': {'completion_tokens': 43, 'prompt_tokens': 15, 'total_tokens': 58, 'completion_time': 0.078181818, 'prompt_time': 0.001926946, 'queue_time': 0.016843662000000002, 'total_time': 0.080108764}, 'model_name': 'gemma2-9b-it', 'system_fingerprint': 'fp_10c08bf97d', 'finish_reason': 'stop', 'logprobs': None}, id='run-4d9a560c-5e43-44d8-95bd-fcc8c346ffed-0', usage_metadata={'input_tokens': 15, 'output_tokens': 43, 'total_tokens': 58})"
      ]
     },
     "execution_count": 3,
     "metadata": {},
     "output_type": "execute_result"
    }
   ],
   "source": [
    "LLM_model.invoke(\"who is the president of india\")"
   ]
  },
  {
   "cell_type": "code",
   "execution_count": 6,
   "metadata": {},
   "outputs": [
    {
     "name": "stdout",
     "output_type": "stream",
     "text": [
      "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\n",
      "nk-QA1x9zLAbGUNnH7kZVLQX157E9jn6cn5vmyYOQJs090\n"
     ]
    }
   ],
   "source": [
    "import os\n",
    "from dotenv import load_dotenv\n",
    "\n",
    "load_dotenv()  # This loads environment variables from .env\n",
    "print(os.getenv(\"GROQ_API_KEY\")) \n",
    "print(os.getenv(\"NOMIC_API_KEY\")) # Should print your API key\n",
    "\n"
   ]
  },
  {
   "cell_type": "code",
   "execution_count": null,
   "metadata": {},
   "outputs": [],
   "source": [
    "# import os\n",
    "# from langchain_groq import ChatGroq\n",
    "#   # Replace with your actual API key\n",
    "\n",
    "# GROQ_API_KEY = \"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\" # Optional but good practice\n",
    "\n",
    "# LLM_model = ChatGroq(model=\"gemma2-9b-it\", api_key=GROQ_API_KEY)\n"
   ]
  },
  {
   "cell_type": "code",
   "execution_count": 2,
   "metadata": {},
   "outputs": [
    {
     "ename": "NameError",
     "evalue": "name 'LLM_model' is not defined",
     "output_type": "error",
     "traceback": [
      "\u001b[1;31m---------------------------------------------------------------------------\u001b[0m",
      "\u001b[1;31mNameError\u001b[0m                                 Traceback (most recent call last)",
      "Cell \u001b[1;32mIn[2], line 1\u001b[0m\n\u001b[1;32m----> 1\u001b[0m \u001b[43mLLM_model\u001b[49m\u001b[38;5;241m.\u001b[39minvoke(\u001b[38;5;124m\"\u001b[39m\u001b[38;5;124mwho is the president of india\u001b[39m\u001b[38;5;124m\"\u001b[39m)\n",
      "\u001b[1;31mNameError\u001b[0m: name 'LLM_model' is not defined"
     ]
    }
   ],
   "source": [
    "LLM_model.invoke(\"who is the president of india\")"
   ]
  },
  {
   "cell_type": "code",
   "execution_count": null,
   "metadata": {},
   "outputs": [],
   "source": []
  }
 ],
 "metadata": {
  "kernelspec": {
   "display_name": "jyant",
   "language": "python",
   "name": "python3"
  },
  "language_info": {
   "codemirror_mode": {
    "name": "ipython",
    "version": 3
   },
   "file_extension": ".py",
   "mimetype": "text/x-python",
   "name": "python",
   "nbconvert_exporter": "python",
   "pygments_lexer": "ipython3",
   "version": "3.11.4"
  }
 },
 "nbformat": 4,
 "nbformat_minor": 2
}
